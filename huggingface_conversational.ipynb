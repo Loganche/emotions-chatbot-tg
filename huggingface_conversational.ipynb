{
  "nbformat": 4,
  "nbformat_minor": 0,
  "metadata": {
    "colab": {
      "name": "huggingface-conversational.ipynb",
      "provenance": [],
      "collapsed_sections": []
    },
    "kernelspec": {
      "name": "python3",
      "display_name": "Python 3"
    },
    "language_info": {
      "name": "python"
    }
  },
  "cells": [
    {
      "cell_type": "code",
      "metadata": {
        "id": "QYu5pPavp4Js"
      },
      "source": [
        "!pip install transformers"
      ],
      "execution_count": null,
      "outputs": []
    },
    {
      "cell_type": "markdown",
      "metadata": {
        "id": "LiF6Aa3zzST4"
      },
      "source": [
        "https://huggingface.co/docs/transformers/model_doc/blenderbot\n",
        "\n",
        "https://huggingface.co/facebook/blenderbot-400M-distill\n"
      ]
    },
    {
      "cell_type": "code",
      "metadata": {
        "id": "a0_k5vLkyojt"
      },
      "source": [
        "from transformers import BlenderbotTokenizer, BlenderbotForConditionalGeneration"
      ],
      "execution_count": null,
      "outputs": []
    },
    {
      "cell_type": "code",
      "metadata": {
        "id": "IGCFr57GxOdm"
      },
      "source": [
        "tokenizer = BlenderbotTokenizer.from_pretrained(\"facebook/blenderbot-400M-distill\")\n",
        "model = BlenderbotForConditionalGeneration.from_pretrained(\"facebook/blenderbot-400M-distill\")"
      ],
      "execution_count": null,
      "outputs": []
    },
    {
      "cell_type": "code",
      "metadata": {
        "id": "wvigq4nayvQ9"
      },
      "source": [
        "UTTERANCE = \"My friends are cool but they eat too many carbs.\""
      ],
      "execution_count": null,
      "outputs": []
    },
    {
      "cell_type": "code",
      "metadata": {
        "id": "U9Yn2zFFyzbv"
      },
      "source": [
        "inputs = tokenizer([UTTERANCE], return_tensors='pt')\n",
        "reply_ids = model.generate(**inputs)"
      ],
      "execution_count": null,
      "outputs": []
    },
    {
      "cell_type": "code",
      "metadata": {
        "colab": {
          "base_uri": "https://localhost:8080/"
        },
        "id": "iQQc2Th4zHWu",
        "outputId": "e43b5866-3b81-4ea9-9e4f-3ac7e9d71fab"
      },
      "source": [
        "print(tokenizer.batch_decode(reply_ids))"
      ],
      "execution_count": null,
      "outputs": [
        {
          "output_type": "stream",
          "name": "stdout",
          "text": [
            "[\"<s> That's unfortunate. Are they trying to lose weight or are they just trying to be healthier?</s>\"]\n"
          ]
        }
      ]
    }
  ]
}